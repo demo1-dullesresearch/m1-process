{
 "cells": [
  {
   "cell_type": "markdown",
   "metadata": {},
   "source": [
    "## Overview\n",
    "\n",
    "The iterative workflow\n",
    "1. [Dry Run](#1.-Dry-Run)\n",
    "2. [Generate Python code](#2.-Generate-Python-code)\n",
    "3. [Test Generated Python](#3.-Test-Generated-Python)\n",
    "\n"
   ]
  },
  {
   "cell_type": "markdown",
   "metadata": {},
   "source": [
    "## 1. Dry Run\n",
    "\n",
    "1. Set up the workspace with the SAS code and input data\n",
    "2. Enable checkpoint generation in [m1-process.sas](m1-process.sas); use <br>\n",
    "`%chckpt(save);`\n",
    "\n",
    "3. Do the dry run to create checkpoints and verify the integrity<br>\n",
    "The log should be error-free and indicate checkpoint creation:<br>\n",
    "`INFO: Checkpoint WORK.DATA1_01 saved with 8,000 observations.`"
   ]
  },
  {
   "cell_type": "code",
   "execution_count": null,
   "metadata": {},
   "outputs": [],
   "source": [
    "options msglevel=i;\n",
    "%include 'm1-process.sas';"
   ]
  },
  {
   "cell_type": "markdown",
   "metadata": {},
   "source": [
    "back to the [top](#Overview)\n",
    "## 2. Generate Python code\n",
    "\n",
    "1. Switch checkpoint mode to verify<br>\n",
    "`%chckpt(verify);`\n",
    "2. Run conversion\n",
    "\n",
    "3. Inspect results <br>\n",
    "  a) Ensure repeatable SAS code output, see `NOTE: Checkpoints compared for 3 data sets: No diffs found.` At the end;<br>\n",
    "  b) Check for unsupported features<br>\n",
    "  \n",
    "4. Each unsupported feature, take appropriate action:<br>\n",
    "  a) Modify SAS code with a supported equivalent<br>\n",
    "  b) Use `pysas://inline` directive to supply Python equivalent<br>\n",
    "  c) Flag for subsequent manual conversion and move on, e.g LABEL<br>\n",
    "\n",
    "```\n",
    "/* pysas://inline\n",
    "print(loc.cust_data.pivot_table(index='var11', aggfunc=[len]))\n",
    "*/\n",
    "```"
   ]
  },
  {
   "cell_type": "code",
   "execution_count": null,
   "metadata": {},
   "outputs": [],
   "source": [
    "\n",
    "%pysas(m1-process);\n"
   ]
  },
  {
   "cell_type": "markdown",
   "metadata": {},
   "source": [
    "back to the [top](#Overview)\n",
    "## 3. Test Generated Python\n",
    "\n",
    "The generated code is saved to [m1-process.py](m1-process.py)\n"
   ]
  },
  {
   "cell_type": "code",
   "execution_count": null,
   "metadata": {},
   "outputs": [],
   "source": [
    "%%python\n",
    "exec(open('m1-process.py').read())\n"
   ]
  },
  {
   "cell_type": "code",
   "execution_count": null,
   "metadata": {},
   "outputs": [],
   "source": [
    "/* clean up */\n",
    "x rm m1-process.py carolina.db;"
   ]
  }
 ],
 "metadata": {
  "kernelspec": {
   "display_name": "Carolina",
   "language": "sas",
   "name": "carolina"
  },
  "language_info": {
   "codemirror_mode": "sas",
   "file_extension": ".sas",
   "mimetype": "text/x-sas",
   "name": "sas"
  }
 },
 "nbformat": 4,
 "nbformat_minor": 4
}
